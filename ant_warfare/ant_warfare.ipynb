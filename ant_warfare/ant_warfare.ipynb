{
 "cells": [
  {
   "cell_type": "markdown",
   "metadata": {},
   "source": [
    "# Build the field"
   ]
  },
  {
   "cell_type": "markdown",
   "metadata": {},
   "source": [
    "## Because we are not allowed to do object oriented this is the orientation of the ant:\n",
    "ant[team, food, smell]\n",
    "\n",
    "* team is a value between -1 and 1 where -1 has no ant on it 0 has ant from team 0 and 1 has ant from team 1\n",
    "\n",
    "* food is the value of the food  where 0 is no food 1 is has food, -1 is a special case for the neighborhood function for some neighbor outside of the field\n",
    "\n",
    "* smell - or scent is the value of the scent meaning how many ants have stepped on the square"
   ]
  },
  {
   "cell_type": "markdown",
   "metadata": {},
   "source": [
    "## Another important array that we use in this is the queens array:\n",
    "\n",
    "the queens array is a 1 dimmenssional array that looks like this: </br>\n",
    "\n",
    "queens[team1 food, team2 food]\n",
    "\n",
    "in the queens array is stored the food that each team's queen has"
   ]
  },
  {
   "cell_type": "code",
   "execution_count": 108,
   "metadata": {},
   "outputs": [],
   "source": [
    "import numpy as np\n",
    "import random\n",
    "from matplotlib import pyplot as plt"
   ]
  },
  {
   "cell_type": "code",
   "execution_count": 109,
   "metadata": {},
   "outputs": [],
   "source": [
    "def build_field(food_amount: int, field_size: int) -> np.ndarray:\n",
    "    \"\"\"returns the first of size field_size with a set amount of food food_amount\"\"\"\n",
    "    assert food_amount < (field_size-1)*(field_size-1)\n",
    "    field = np.zeros((field_size,field_size,3))\n",
    "    field[:,:,0] = -1\n",
    "    for _ in range(food_amount):\n",
    "        randx = random.randint(1,field_size-2)\n",
    "        randy = random.randint(0, field_size-1)\n",
    "        while field[randy,randx,1] != 0:\n",
    "            randx = random.randint(1,field_size-2)\n",
    "            randy = random.randint(0, field_size-1)\n",
    "        field[randy,randx,1] = 1  \n",
    "    # return np.reshape(field,(field_size,field_size))\n",
    "    return field                \n",
    "      "
   ]
  },
  {
   "cell_type": "code",
   "execution_count": 110,
   "metadata": {},
   "outputs": [],
   "source": [
    "def neighbors(col:int, row:int, field:np.ndarray)-> np.ndarray:\n",
    "    \"\"\"x - x index, y - y index\\n\n",
    "    this function returns a 2 dimensional array of shape(8,3) signifying every spot around the ant where every cell of the array is an ant.\\n\n",
    "    the array is sorted like this where 4 is the ant: \\n\n",
    "    0 1 2\n",
    "    3 * 4\n",
    "    5 6 7 \n",
    "    \"\"\"\n",
    "    count = 0\n",
    "    nei = np.zeros((8,3))\n",
    "    for i in range(0,3):\n",
    "        for j in range(0,3):\n",
    "            if j == 1 and i ==1:\n",
    "                continue\n",
    "            if not(row-1+i<0 or col-1+j<0 or row-1+i>=len(field[0]) or col-1+j>=len(field[0])):\n",
    "                nei[count] = field[row-1+i, col-1+j]\n",
    "            else:\n",
    "                nei[count] = np.zeros(3)-1\n",
    "            count +=1\n",
    "    return nei"
   ]
  },
  {
   "cell_type": "markdown",
   "metadata": {},
   "source": [
    "# Ant operation funcitons\n",
    "\n",
    "as we have shown before there are 5 different things that an ant could do, so these following functions will take neighborhood as input and output an array of the same size which will then be pasted into the field in the next function finally creating the next field  "
   ]
  },
  {
   "cell_type": "code",
   "execution_count": 111,
   "metadata": {},
   "outputs": [],
   "source": [
    "neiToField = {\n",
    "    0: [-1,-1],\n",
    "    1: [0,-1],\n",
    "    2: [1,-1],\n",
    "    3: [-1,0],\n",
    "    4: [1,0],\n",
    "    5: [-1,1],\n",
    "    6: [0,1],\n",
    "    7: [1,1]\n",
    "}\n",
    "def nei_to_field(neiIndex, fieldX, fieldY):\n",
    "    \"\"\"does neighbor to field\"\"\"\n",
    "    return  neiToField[neiIndex][1] + fieldY, neiToField[neiIndex][0] + fieldX"
   ]
  },
  {
   "cell_type": "code",
   "execution_count": 112,
   "metadata": {},
   "outputs": [],
   "source": [
    "def give_food(field:np.ndarray, nei:np.ndarray, x:int, y:int) -> np.ndarray:\n",
    "    \"\"\"give the nearest ant around form the same team the food wich she have\n",
    "        if there is no ant which capable to cary that food the original field will return\"\"\"\n",
    "    \n",
    "    field = field.copy()\n",
    "    antWithTheHighestSmellInd = -1\n",
    "    highstSmell = 0\n",
    "    mainAnt = field[y,x]\n",
    "    for index,i in enumerate(nei):\n",
    "        if(i[0] == mainAnt[0] and highstSmell<=abs(i[2]) and i[1] == 0): #if the ant has bigger smell then all the ant around\n",
    "            #and if the ant is from the same team and if the ant hasn't have any food, then it will choose it\n",
    "            highstSmell = abs(i[2])\n",
    "            antWithTheHighestSmellInd = index\n",
    "    \n",
    "    if(antWithTheHighestSmellInd == -1):\n",
    "        return None #Not capable doing that\n",
    "    \n",
    "    xField, yField = nei_to_field(antWithTheHighestSmellInd, x, y)\n",
    "    field[yField,xField][1] += 1\n",
    "    field[y,x][1] = 0\n",
    "\n",
    "    return field"
   ]
  },
  {
   "cell_type": "code",
   "execution_count": 113,
   "metadata": {},
   "outputs": [],
   "source": [
    "def take_food(field:np.ndarray, nei:np.ndarray, antIndexY: int, antIndexX: int) -> np.ndarray: #only happend if the ant goes on the food\n",
    "    \"\"\"get the field and ant Indexes (x,y) and return the new field\n",
    "     where the ant moved and takes the food\n",
    "      if there is no food return None \"\"\"\n",
    "    field = field.copy()\n",
    "    foodInd = -1\n",
    "    for index in range(len(nei)):\n",
    "        if(nei[index][0] == -1 and nei[index][1] == 1): #is food\n",
    "            foodInd = index\n",
    "            break\n",
    "    \n",
    "    if(foodInd == -1):\n",
    "        return None\n",
    "    y,x = nei_to_field(foodInd, antIndexX, antIndexY)\n",
    "\n",
    "    field[y,x]=field[antIndexY,antIndexX].copy()\n",
    "    field[antIndexY,antIndexX]=np.array([-1,0,field[y,x,2]])\n",
    "    field[y,x][1]=1\n",
    "    field[y,x][2]=+1*(1-2*field[y,x,0])\n",
    "    return field"
   ]
  },
  {
   "cell_type": "code",
   "execution_count": 114,
   "metadata": {},
   "outputs": [],
   "source": [
    "def warfare(field:np.ndarray, nei:np.ndarray, x:int, y:int):\n",
    "   field = field.copy()\n",
    "   team = field[y,x,0]\n",
    "   for index,i in enumerate(nei): \n",
    "      if i[0] != -1 and i[0] != team:\n",
    "         loc = nei_to_field(index, x,y)\n",
    "         randnum = random.random()\n",
    "         if randnum > 0.5: #other ant wins \n",
    "            field[y,x, 0] = 0 #kills ant\n",
    "            field[loc[1], loc[0], 1] = 1 #gives other ant food (maybe) \n",
    "         else: #this ant wins \n",
    "            field[y,x][1] = 1 #gives ant food (maybe)\n",
    "            field[loc[1], loc[0]][0] = 0 #kills ant\n",
    "         break\n",
    "   return field"
   ]
  },
  {
   "cell_type": "code",
   "execution_count": null,
   "metadata": {},
   "outputs": [],
   "source": []
  },
  {
   "cell_type": "code",
   "execution_count": 115,
   "metadata": {},
   "outputs": [],
   "source": [
    "def move_away_scent(field:np.ndarray, nei:np.ndarray, col:int, row:int) -> np.ndarray:\n",
    "    nfield = field.copy()\n",
    "    team = nfield[row,col,0]\n",
    "    nfield[row,col,2] = nfield[row,col,2]+1*(1-2*team)\n",
    "    ant = nfield[row,col].copy()\n",
    "    prob = np.zeros(8)\n",
    "    for index,cell in enumerate(nei):\n",
    "        if cell[1] == -1:\n",
    "            prob[index] = 0\n",
    "        else:\n",
    "            prob[index] = abs(ant[2]-cell[2])+1\n",
    "    if (prob == np.zeros(8)).all():\n",
    "        return nfield\n",
    "    prob = prob/np.sum(prob)\n",
    "    new_pos = nei_to_field(np.random.choice(8,p=prob),col,row)\n",
    "    nfield[new_pos[0],new_pos[1],0] = ant[0]\n",
    "    nfield[new_pos[0],new_pos[1],1] = ant[1]\n",
    "    nfield[row,col] = np.array([-1,0,nfield[row,col,2]])\n",
    "    return nfield"
   ]
  },
  {
   "cell_type": "code",
   "execution_count": 116,
   "metadata": {},
   "outputs": [],
   "source": [
    "def move_to_scent(field:np.ndarray, nei:np.ndarray, col:int, row:int) -> np.ndarray:\n",
    "    nfield = field.copy()\n",
    "    team = nfield[row,col,0]\n",
    "    nfield[row,col,2] = nfield[row,col,2]+1*(1-2*team)\n",
    "    ant = nfield[row,col].copy()\n",
    "    prob = np.zeros(8)\n",
    "    for index,cell in enumerate(nei):\n",
    "        if cell[1] == -1:\n",
    "            prob[index] = 0\n",
    "        else:\n",
    "            prob[index] = abs(ant[2]-cell[2])+1\n",
    "    s_max=max(prob)\n",
    "    for index,p in enumerate(prob):\n",
    "        if s_max+1-p==s_max+1:\n",
    "            prob[index]=0\n",
    "        prob[index]=s_max+1-p\n",
    "    if (prob == np.zeros(8)).all():\n",
    "        return nfield\n",
    "\n",
    "    prob = prob/np.sum(prob)\n",
    "    \n",
    "    new_pos = nei_to_field(np.random.choice(8,p=prob),col,row)\n",
    "    print(new_pos)\n",
    "    nfield[new_pos[0],new_pos[1],0] = ant[0]\n",
    "    nfield[new_pos[0],new_pos[1],1] = ant[1]\n",
    "    nfield[row,col] = np.array([-1,0,nfield[row,col,2]])\n",
    "    return nfield"
   ]
  },
  {
   "cell_type": "markdown",
   "metadata": {},
   "source": [
    "# Applying the operation functions"
   ]
  },
  {
   "cell_type": "code",
   "execution_count": 117,
   "metadata": {},
   "outputs": [],
   "source": [
    "def rules(col:int, row:int, field:np.ndarray) -> np.ndarray:\n",
    "    global debug\n",
    "    \"\"\"x - x index, y - y index\\n\n",
    "    this functions returns an updated field,\n",
    "    it chooses which of the operations to perform then returns the updated field for a given ant and applies the appropriate function the situations can be\\n\n",
    "    give food, \\n\n",
    "    take food, \\n\n",
    "    move to scent, \\n\n",
    "    warfare,\\n\n",
    "    move away from scent\n",
    "    \"\"\"\n",
    "    #remember to do scent properly\n",
    "    #print(f\"rules:{field[x,y]}\")\n",
    "    nei = neighbors(col,row,field)\n",
    "    newField = None\n",
    "    debug = -2\n",
    "    if(field[row,col,1] == 1):\n",
    "        newField = give_food(field, nei, col, row) #return None if its not capable to do it\n",
    "        debug = 0\n",
    "        if(newField is None):\n",
    "            print(\"test\")\n",
    "            newField = move_to_scent(field, nei, col, row)\n",
    "            debug = 1\n",
    "            return newField\n",
    "    else:\n",
    "        newField = take_food(field, nei, row, col) #return None if its not capable to do it\n",
    "        debug = 2\n",
    "        if(newField is None):\n",
    "            team = field[row,col,0]\n",
    "            for ant in nei:\n",
    "                if ant[0] != team and ant[0] !=-1:\n",
    "                    newField = warfare(field, nei, col, row)\n",
    "                    debug = 3\n",
    "                    return newField\n",
    "            if(newField is None):\n",
    "                newField = move_away_scent(field, nei, col, row)\n",
    "                debug = 4\n",
    "    return newField"
   ]
  },
  {
   "cell_type": "markdown",
   "metadata": {},
   "source": [
    "# And finally doing the Next function"
   ]
  },
  {
   "cell_type": "code",
   "execution_count": 118,
   "metadata": {},
   "outputs": [],
   "source": [
    "def give_birth(field:np.ndarray, queens:np.ndarray):\n",
    "    \"\"\"\n",
    "    this function is the queens giving birth\n",
    "    - the queen can only give birth on the three tiles on the middle of it's side but it can birth as many ants as available\n",
    "    \"\"\"\n",
    "    mid = len(field)//2\n",
    "    for i in range(-1,2):\n",
    "        if field[mid+i,0,0] == -1 and queens[0] > 0:\n",
    "            field[mid+i,0,0] = 0\n",
    "            queens[0] -= 1\n",
    "        if field[mid+i,len(field)-1,0] == -1 and queens[1]>0:\n",
    "            field[mid+i,len(field)-1,0]  = 1\n",
    "            queens[1] -= 1"
   ]
  },
  {
   "cell_type": "code",
   "execution_count": 119,
   "metadata": {},
   "outputs": [],
   "source": [
    "def queen_eat(field:np.ndarray, queens:np.ndarray):\n",
    "    \"\"\"\n",
    "    this funciton is the queens eating if there is an ant that has food in the beginning of the turn\n",
    "    \"\"\"\n",
    "\n",
    "    mid = len(field)//2\n",
    "    for i in range(-1,2):\n",
    "        if field[mid+i,0,0] == 1 and field[mid+i,0,1]>0:\n",
    "            queens[0] += 1\n",
    "            field[mid+i,0,1] = 0\n",
    "            \n",
    "        if field[mid+i,len(field)-1,0] == 1 and field[mid+i,len(field)-1,1]>0:\n",
    "            queens[1] += 1\n",
    "            field[mid+i,len(field)-1,1] = 1"
   ]
  },
  {
   "cell_type": "code",
   "execution_count": 120,
   "metadata": {},
   "outputs": [],
   "source": [
    "def next_gen(field: np.ndarray, queens: np.ndarray) -> np.ndarray:\n",
    "    give_birth(field, queens)\n",
    "    queen_eat(field,queens)\n",
    "    debug = 0\n",
    "    field = field.copy()\n",
    "    for y,row in enumerate(field):\n",
    "        for x,cell in enumerate(row):\n",
    "            if cell[0] >= 0:\n",
    "                field = rules(x,y,field)\n",
    "    return field\n"
   ]
  },
  {
   "cell_type": "markdown",
   "metadata": {},
   "source": [
    "# simulation"
   ]
  },
  {
   "cell_type": "code",
   "execution_count": 121,
   "metadata": {},
   "outputs": [
    {
     "name": "stdout",
     "output_type": "stream",
     "text": [
      "test\n",
      "(13, 1)\n",
      "test\n",
      "(2, 2)\n",
      "test\n",
      "(14, 2)\n",
      "test\n",
      "(1, 2)\n",
      "test\n",
      "(15, 2)\n"
     ]
    },
    {
     "ename": "IndexError",
     "evalue": "index 15 is out of bounds for axis 0 with size 15",
     "output_type": "error",
     "traceback": [
      "\u001b[0;31m---------------------------------------------------------------------------\u001b[0m",
      "\u001b[0;31mIndexError\u001b[0m                                Traceback (most recent call last)",
      "Cell \u001b[0;32mIn[121], line 8\u001b[0m\n\u001b[1;32m      6\u001b[0m simulation[\u001b[38;5;241m0\u001b[39m] \u001b[38;5;241m=\u001b[39m build_field(food_amnt, l)\n\u001b[1;32m      7\u001b[0m \u001b[38;5;28;01mfor\u001b[39;00m i \u001b[38;5;129;01min\u001b[39;00m \u001b[38;5;28mrange\u001b[39m(\u001b[38;5;241m1\u001b[39m,t\u001b[38;5;241m-\u001b[39m\u001b[38;5;241m1\u001b[39m):\n\u001b[0;32m----> 8\u001b[0m     next_sim \u001b[38;5;241m=\u001b[39m \u001b[43mnext_gen\u001b[49m\u001b[43m(\u001b[49m\u001b[43msimulation\u001b[49m\u001b[43m[\u001b[49m\u001b[43mi\u001b[49m\u001b[38;5;241;43m-\u001b[39;49m\u001b[38;5;241;43m1\u001b[39;49m\u001b[43m]\u001b[49m\u001b[43m,\u001b[49m\u001b[43mqueens\u001b[49m\u001b[43m)\u001b[49m\n\u001b[1;32m      9\u001b[0m     simulation[i\u001b[38;5;241m-\u001b[39m\u001b[38;5;241m1\u001b[39m]\n\u001b[1;32m     10\u001b[0m     simulation[i] \u001b[38;5;241m=\u001b[39m next_sim\u001b[38;5;241m.\u001b[39mcopy()\n",
      "Cell \u001b[0;32mIn[120], line 9\u001b[0m, in \u001b[0;36mnext_gen\u001b[0;34m(field, queens)\u001b[0m\n\u001b[1;32m      7\u001b[0m     \u001b[38;5;28;01mfor\u001b[39;00m x,cell \u001b[38;5;129;01min\u001b[39;00m \u001b[38;5;28menumerate\u001b[39m(row):\n\u001b[1;32m      8\u001b[0m         \u001b[38;5;28;01mif\u001b[39;00m cell[\u001b[38;5;241m0\u001b[39m] \u001b[38;5;241m>\u001b[39m\u001b[38;5;241m=\u001b[39m \u001b[38;5;241m0\u001b[39m:\n\u001b[0;32m----> 9\u001b[0m             field \u001b[38;5;241m=\u001b[39m \u001b[43mrules\u001b[49m\u001b[43m(\u001b[49m\u001b[43mx\u001b[49m\u001b[43m,\u001b[49m\u001b[43my\u001b[49m\u001b[43m,\u001b[49m\u001b[43mfield\u001b[49m\u001b[43m)\u001b[49m\n\u001b[1;32m     10\u001b[0m \u001b[38;5;28;01mreturn\u001b[39;00m field\n",
      "Cell \u001b[0;32mIn[117], line 22\u001b[0m, in \u001b[0;36mrules\u001b[0;34m(col, row, field)\u001b[0m\n\u001b[1;32m     20\u001b[0m \u001b[38;5;28;01mif\u001b[39;00m(newField \u001b[38;5;129;01mis\u001b[39;00m \u001b[38;5;28;01mNone\u001b[39;00m):\n\u001b[1;32m     21\u001b[0m     \u001b[38;5;28mprint\u001b[39m(\u001b[38;5;124m\"\u001b[39m\u001b[38;5;124mtest\u001b[39m\u001b[38;5;124m\"\u001b[39m)\n\u001b[0;32m---> 22\u001b[0m     newField \u001b[38;5;241m=\u001b[39m \u001b[43mmove_to_scent\u001b[49m\u001b[43m(\u001b[49m\u001b[43mfield\u001b[49m\u001b[43m,\u001b[49m\u001b[43m \u001b[49m\u001b[43mnei\u001b[49m\u001b[43m,\u001b[49m\u001b[43m \u001b[49m\u001b[43mcol\u001b[49m\u001b[43m,\u001b[49m\u001b[43m \u001b[49m\u001b[43mrow\u001b[49m\u001b[43m)\u001b[49m\n\u001b[1;32m     23\u001b[0m     debug \u001b[38;5;241m=\u001b[39m \u001b[38;5;241m1\u001b[39m\n\u001b[1;32m     24\u001b[0m     \u001b[38;5;28;01mreturn\u001b[39;00m newField\n",
      "Cell \u001b[0;32mIn[116], line 24\u001b[0m, in \u001b[0;36mmove_to_scent\u001b[0;34m(field, nei, col, row)\u001b[0m\n\u001b[1;32m     22\u001b[0m new_pos \u001b[38;5;241m=\u001b[39m nei_to_field(np\u001b[38;5;241m.\u001b[39mrandom\u001b[38;5;241m.\u001b[39mchoice(\u001b[38;5;241m8\u001b[39m,p\u001b[38;5;241m=\u001b[39mprob),col,row)\n\u001b[1;32m     23\u001b[0m \u001b[38;5;28mprint\u001b[39m(new_pos)\n\u001b[0;32m---> 24\u001b[0m \u001b[43mnfield\u001b[49m\u001b[43m[\u001b[49m\u001b[43mnew_pos\u001b[49m\u001b[43m[\u001b[49m\u001b[38;5;241;43m0\u001b[39;49m\u001b[43m]\u001b[49m\u001b[43m,\u001b[49m\u001b[43mnew_pos\u001b[49m\u001b[43m[\u001b[49m\u001b[38;5;241;43m1\u001b[39;49m\u001b[43m]\u001b[49m\u001b[43m,\u001b[49m\u001b[38;5;241;43m0\u001b[39;49m\u001b[43m]\u001b[49m \u001b[38;5;241m=\u001b[39m ant[\u001b[38;5;241m0\u001b[39m]\n\u001b[1;32m     25\u001b[0m nfield[new_pos[\u001b[38;5;241m0\u001b[39m],new_pos[\u001b[38;5;241m1\u001b[39m],\u001b[38;5;241m1\u001b[39m] \u001b[38;5;241m=\u001b[39m ant[\u001b[38;5;241m1\u001b[39m]\n\u001b[1;32m     26\u001b[0m nfield[row,col] \u001b[38;5;241m=\u001b[39m np\u001b[38;5;241m.\u001b[39marray([\u001b[38;5;241m-\u001b[39m\u001b[38;5;241m1\u001b[39m,\u001b[38;5;241m0\u001b[39m,nfield[row,col,\u001b[38;5;241m2\u001b[39m]])\n",
      "\u001b[0;31mIndexError\u001b[0m: index 15 is out of bounds for axis 0 with size 15"
     ]
    }
   ],
   "source": [
    "t = 100\n",
    "l = 15\n",
    "food_amnt = 10\n",
    "queens = np.array([10,0])\n",
    "simulation = np.zeros((t,l,l,3))\n",
    "simulation[0] = build_field(food_amnt, l)\n",
    "for i in range(1,t-1):\n",
    "    next_sim = next_gen(simulation[i-1],queens)\n",
    "    simulation[i-1]\n",
    "    simulation[i] = next_sim.copy()"
   ]
  },
  {
   "cell_type": "code",
   "execution_count": null,
   "metadata": {},
   "outputs": [],
   "source": [
    "def make_show_sim(sim:np.ndarray):\n",
    "    show_sim_dict = {\n",
    "        (-1,0): 0,\n",
    "        (0,0): 1, #there is an ant without food from team 0\n",
    "        (1,0): 2, #there is an ant without food from team 1\n",
    "        (-1,1): 3, #there is food without an ant \n",
    "        (0,1): 4, #there is an ant with food from team 0\n",
    "        (1,1): 5, #there is an ant with food from team 1\n",
    "    }\n",
    "    show_sim = np.ndarray(shape=(sim.shape[0],sim.shape[1],sim.shape[2]))\n",
    "    for gen in range(len(show_sim)):\n",
    "        for i in range(len(show_sim[gen])):\n",
    "            for j in range(len(show_sim[gen,i])):\n",
    "                show_sim[gen,i,j] = show_sim_dict.get((sim[gen,i,j,0],sim[gen,i,j,1]))\n",
    "    return show_sim"
   ]
  },
  {
   "cell_type": "code",
   "execution_count": null,
   "metadata": {},
   "outputs": [],
   "source": [
    "show_sim = make_show_sim(simulation)"
   ]
  },
  {
   "cell_type": "code",
   "execution_count": null,
   "metadata": {},
   "outputs": [
    {
     "data": {
      "text/plain": [
       "<matplotlib.colorbar.Colorbar at 0x7e0139a6c7d0>"
      ]
     },
     "execution_count": 107,
     "metadata": {},
     "output_type": "execute_result"
    },
    {
     "data": {
      "application/vnd.jupyter.widget-view+json": {
       "model_id": "ec44121520544e148b570a1eb5c8eff3",
       "version_major": 2,
       "version_minor": 0
      },
      "image/png": "[encoded data removed]",
      "text/html": [
       "\n",
       "            <div style=\"display: inline-block;\">\n",
       "                <div class=\"jupyter-widgets widget-label\" style=\"text-align: center;\">\n",
       "                    Figure\n",
       "                </div>\n",
       "                <img src='data:image/png;base64,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' width=640.0/>\n",
       "            </div>\n",
       "        "
      ],
      "text/plain": [
       "Canvas(toolbar=Toolbar(toolitems=[('Home', 'Reset original view', 'home', 'home'), ('Back', 'Back to previous …"
      ]
     },
     "metadata": {},
     "output_type": "display_data"
    }
   ],
   "source": [
    "from matplotlib import animation as animation\n",
    "\n",
    "%matplotlib ipympl\n",
    "\n",
    "fig, ax = plt.subplots(1,1)\n",
    "ims = []\n",
    "for i in range(len(show_sim)):\n",
    "    im = ax.imshow(show_sim[i],cmap='magma',vmax=5,vmin=0)\n",
    "    ims.append([im])\n",
    "\n",
    "an = animation.ArtistAnimation(fig, ims, interval=150, blit=True, repeat_delay=500)\n",
    "fig.colorbar(im)\n",
    "\n",
    "#print(simulation[40,2,10])\n"
   ]
  },
  {
   "cell_type": "markdown",
   "metadata": {},
   "source": [
    "Start of my testing"
   ]
  },
  {
   "cell_type": "code",
   "execution_count": null,
   "metadata": {},
   "outputs": [
    {
     "name": "stdout",
     "output_type": "stream",
     "text": [
      "0.0\n"
     ]
    }
   ],
   "source": [
    "print(show_sim[1,2,1])"
   ]
  },
  {
   "cell_type": "code",
   "execution_count": null,
   "metadata": {},
   "outputs": [
    {
     "data": {
      "text/plain": [
       "array([0., 0., 0.])"
      ]
     },
     "execution_count": 62,
     "metadata": {},
     "output_type": "execute_result"
    }
   ],
   "source": [
    "simulation[2,2,1]"
   ]
  }
 ],
 "metadata": {
  "kernelspec": {
   "display_name": ".venv",
   "language": "python",
   "name": "python3"
  },
  "language_info": {
   "codemirror_mode": {
    "name": "ipython",
    "version": 3
   },
   "file_extension": ".py",
   "mimetype": "text/x-python",
   "name": "python",
   "nbconvert_exporter": "python",
   "pygments_lexer": "ipython3",
   "version": "3.11.6"
  }
 },
 "nbformat": 4,
 "nbformat_minor": 2
}
